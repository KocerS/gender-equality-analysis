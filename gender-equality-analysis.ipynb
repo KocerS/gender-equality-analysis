{
 "cells": [
  {
   "cell_type": "code",
   "execution_count": null,
   "id": "f9a131e2-09f0-4cd4-9f16-550f0f87f46d",
   "metadata": {},
   "outputs": [],
   "source": [
    "import pandas as pd\n",
    "df = pd.read_csv(\"gender_data_with_turkey.csv\")\n",
    "df.head()"
   ]
  },
  {
   "cell_type": "code",
   "execution_count": null,
   "id": "5f4212b8-4b8f-476b-b9d4-b0029bc7e3fa",
   "metadata": {},
   "outputs": [],
   "source": [
    "!git remote add origin https://github.com/KocerS/gender-equality-analysis.git"
   ]
  },
  {
   "cell_type": "code",
   "execution_count": null,
   "id": "c1ba69c6-ca54-43e2-ab7f-2ea45abe050e",
   "metadata": {},
   "outputs": [],
   "source": [
    "!git branch -M main\n",
    "!git push -u origin main"
   ]
  },
  {
   "cell_type": "code",
   "execution_count": null,
   "id": "a3af4077-06e1-4510-ad7a-1048b5f9ed63",
   "metadata": {},
   "outputs": [],
   "source": [
    "import os\n",
    "os.chdir(\"C:/Users/suna.tatli/Gender Equality Project\")"
   ]
  },
  {
   "cell_type": "code",
   "execution_count": null,
   "id": "69f7eeec-90e1-4149-8ad1-e804697a5392",
   "metadata": {},
   "outputs": [],
   "source": [
    "print(os.getcwd())\n",
    "print(os.listdir())"
   ]
  },
  {
   "cell_type": "code",
   "execution_count": null,
   "id": "8f91eb9a-1978-4ca7-bde0-82ca37296453",
   "metadata": {},
   "outputs": [],
   "source": [
    "!git init\n",
    "!git add .\n",
    "!git commit -m \"Initial commit with notebook and dataset\"\n",
    "!git branch -M main\n",
    "!git remote add origin https://github.com/KocerS/gender-equality-analysis.git\n",
    "!git push -u origin main"
   ]
  },
  {
   "cell_type": "code",
   "execution_count": null,
   "id": "3f78b22c-6594-4d3a-b8a7-4a7020bf4921",
   "metadata": {},
   "outputs": [],
   "source": [
    "with open(\".gitignore\", \"w\") as f:\n",
    "    f.write(\"\"\"\n",
    "# Jupyter checkpoints\n",
    ".ipynb_checkpoints/\n",
    "\n",
    "# Python cache\n",
    "__pycache__/\n",
    "\n",
    "# VS Code config\n",
    ".vscode/\n",
    "\n",
    "# Veri dosyaları (opsiyonel)\n",
    "*.csv\n",
    "*.xlsx\n",
    "\n",
    "# Sistem klasörleri\n",
    "AppData/\n",
    "*.log\n",
    "*.DS_Store\n",
    "*.ini\n",
    "\"\"\")"
   ]
  },
  {
   "cell_type": "code",
   "execution_count": null,
   "id": "b0369df5-210b-455e-a98e-09b6df86a125",
   "metadata": {},
   "outputs": [],
   "source": [
    "!git add .gitignore\n",
    "!git commit -m \"Add .gitignore to clean unwanted files\"\n",
    "!git push"
   ]
  },
  {
   "cell_type": "code",
   "execution_count": null,
   "id": "cac0573f-db7c-4e78-b4ea-7ad81fd542bb",
   "metadata": {},
   "outputs": [],
   "source": [
    "!git commit -m \"Remove unnecessary files\"\n",
    "!git push"
   ]
  },
  {
   "cell_type": "code",
   "execution_count": null,
   "id": "c069e57e-8e31-42a9-8ae7-f36f15e26d46",
   "metadata": {},
   "outputs": [],
   "source": []
  }
 ],
 "metadata": {
  "kernelspec": {
   "display_name": "Python 3 (ipykernel)",
   "language": "python",
   "name": "python3"
  },
  "language_info": {
   "codemirror_mode": {
    "name": "ipython",
    "version": 3
   },
   "file_extension": ".py",
   "mimetype": "text/x-python",
   "name": "python",
   "nbconvert_exporter": "python",
   "pygments_lexer": "ipython3",
   "version": "3.12.4"
  }
 },
 "nbformat": 4,
 "nbformat_minor": 5
}
